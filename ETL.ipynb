{
 "cells": [
  {
   "cell_type": "code",
   "execution_count": 27,
   "metadata": {},
   "outputs": [],
   "source": [
    "#Importar librerías\n",
    "import pandas as pd\n",
    "import ast"
   ]
  },
  {
   "cell_type": "code",
   "execution_count": 28,
   "metadata": {},
   "outputs": [
    {
     "name": "stderr",
     "output_type": "stream",
     "text": [
      "C:\\Users\\crest\\AppData\\Local\\Temp\\ipykernel_16780\\2056344466.py:2: DtypeWarning: Columns (10) have mixed types. Specify dtype option on import or set low_memory=False.\n",
      "  movies = pd.read_csv('Dataset/movies_dataset.csv')\n"
     ]
    }
   ],
   "source": [
    "# Importar datasets\n",
    "movies = pd.read_csv('Dataset/movies_dataset.csv')\n",
    "credits = pd.read_csv('Dataset/credits.csv')"
   ]
  },
  {
   "cell_type": "code",
   "execution_count": 29,
   "metadata": {},
   "outputs": [
    {
     "name": "stdout",
     "output_type": "stream",
     "text": [
      "Número de filas en movies_dataset sin duplicados: 45436\n",
      "Número de filas en credits sin duplicados: 45432\n"
     ]
    }
   ],
   "source": [
    "# Eliminar filas duplicadas por id en movies\n",
    "movies_sin_duplicados = movies.drop_duplicates(subset=['id'])\n",
    "\n",
    "# Eliminar filas duplicadas por id en credits\n",
    "credits_sin_duplicados = credits.drop_duplicates(subset=['id'])\n",
    "\n",
    "# Corroborar un menor número de filas resultantes en cada dataset\n",
    "print(\"Número de filas en movies_dataset sin duplicados:\", movies_sin_duplicados.shape[0])\n",
    "print(\"Número de filas en credits sin duplicados:\", credits_sin_duplicados.shape[0])"
   ]
  },
  {
   "attachments": {},
   "cell_type": "markdown",
   "metadata": {},
   "source": [
    "* Algunos campos, como belongs_to_collection, production_companies y otros (ver diccionario de datos) están anidados, esto es o bien tienen un diccionario o una lista como valores en cada fila, ¡deberán desanidarlos para poder y unirlos al dataset de nuevo hacer alguna de las consultas de la API! O bien buscar la manera de acceder a esos datos sin desanidarlos."
   ]
  },
  {
   "cell_type": "code",
   "execution_count": 30,
   "metadata": {},
   "outputs": [],
   "source": [
    "# Desanidar datos de 'movies_dataset.csv'\n",
    "columns_to_unnest = ['belongs_to_collection', 'genres', 'production_companies', 'production_countries', 'spoken_languages']\n",
    "# Reemplazar NaN por strings vacíos\n",
    "movies[columns_to_unnest] = movies[columns_to_unnest].fillna('')\n",
    "# Función para evaluar los valores de la columna\n",
    "def evaluate_value(value):\n",
    "    try:\n",
    "        return ast.literal_eval(value)\n",
    "    except (SyntaxError, ValueError):\n",
    "        return value\n",
    "# Iterar columnas y aplicar función de evaluación\n",
    "for column in columns_to_unnest:\n",
    "    movies[column] = movies[column].apply(evaluate_value)"
   ]
  },
  {
   "cell_type": "code",
   "execution_count": 31,
   "metadata": {},
   "outputs": [],
   "source": [
    "# Desanidar datos de 'credits.csv'\n",
    "columns_to_unnest = ['cast', 'crew', 'id']\n",
    "# Reemplazar NaN por strings vacíos\n",
    "credits[columns_to_unnest] = credits[columns_to_unnest].fillna('')\n",
    "# Función para evaluar los valores de la columna\n",
    "def evaluate_value(value):\n",
    "    try:\n",
    "        return ast.literal_eval(value)\n",
    "    except (SyntaxError, ValueError):\n",
    "        return value\n",
    "# Iterar columnas y aplicar función de evaluación\n",
    "for column in columns_to_unnest:\n",
    "    credits[column] = credits[column].apply(evaluate_value)"
   ]
  },
  {
   "attachments": {},
   "cell_type": "markdown",
   "metadata": {},
   "source": [
    "* Los valores nulos de los campos revenue, budget deben ser rellenados por el número 0."
   ]
  },
  {
   "cell_type": "code",
   "execution_count": 32,
   "metadata": {},
   "outputs": [],
   "source": [
    "movies['revenue'].fillna(0, inplace=True)\n",
    "movies['budget'].fillna(0, inplace=True)"
   ]
  },
  {
   "attachments": {},
   "cell_type": "markdown",
   "metadata": {},
   "source": [
    "* Los valores nulos del campo release date deben eliminarse."
   ]
  },
  {
   "cell_type": "code",
   "execution_count": 33,
   "metadata": {},
   "outputs": [],
   "source": [
    "movies.dropna(subset=['release_date'], inplace=True)"
   ]
  },
  {
   "attachments": {},
   "cell_type": "markdown",
   "metadata": {},
   "source": [
    "* De haber fechas, deberán tener el formato AAAA-mm-dd, además deberán crear la columna release_year donde extraerán el año de la fecha de estreno."
   ]
  },
  {
   "cell_type": "code",
   "execution_count": 34,
   "metadata": {},
   "outputs": [
    {
     "name": "stdout",
     "output_type": "stream",
     "text": [
      "  release_date  release_year\n",
      "0   1995-10-30          1995\n",
      "1   1995-12-15          1995\n",
      "2   1995-12-22          1995\n",
      "3   1995-12-22          1995\n",
      "4   1995-02-10          1995\n"
     ]
    }
   ],
   "source": [
    "# Convertir filas de \"release_year\" al formato deseado, y eliminar las filas con valores inválidos.\n",
    "movies['release_date'] = pd.to_datetime(movies['release_date'], format='%Y-%m-%d', errors='coerce')\n",
    "movies = movies[movies['release_date'].notna()]\n",
    "\n",
    "# Crear la columna 'release_year'\n",
    "movies['release_year'] = movies['release_date'].dt.year\n",
    "\n",
    "# Verificar cambios\n",
    "print(movies[['release_date', 'release_year']].head())"
   ]
  },
  {
   "attachments": {},
   "cell_type": "markdown",
   "metadata": {},
   "source": [
    "* Crear la columna con el retorno de inversión, llamada return con los campos revenue y budget, dividiendo estas dos últimas revenue / budget, cuando no hay datos disponibles para calcularlo, deberá tomar el valor 0."
   ]
  },
  {
   "cell_type": "code",
   "execution_count": 35,
   "metadata": {},
   "outputs": [
    {
     "name": "stdout",
     "output_type": "stream",
     "text": [
      "0    12.451801\n",
      "1     4.043035\n",
      "2     0.000000\n",
      "3     5.090760\n",
      "4          inf\n",
      "Name: return, dtype: float64\n"
     ]
    }
   ],
   "source": [
    "# Convertir columnas \"revenue\" y \"budget\" a numéricas\n",
    "movies['revenue'] = pd.to_numeric(movies['revenue'], errors='coerce')\n",
    "movies['budget'] = pd.to_numeric(movies['budget'], errors='coerce')\n",
    "# Calcular el retorno de inversión como \"return\"\n",
    "movies['return'] = movies['revenue'] / movies['budget']\n",
    "movies['return'].fillna(0, inplace=True)\n",
    "# Verificar cambios\n",
    "print(movies['return'].head())"
   ]
  },
  {
   "attachments": {},
   "cell_type": "markdown",
   "metadata": {},
   "source": [
    "* Eliminar las columnas que no serán utilizadas, video,imdb_id,adult,original_title,poster_path y homepage."
   ]
  },
  {
   "cell_type": "code",
   "execution_count": 36,
   "metadata": {},
   "outputs": [],
   "source": [
    "columns_to_drop = [\"video\", \"imdb_id\", \"adult\", \"original_title\", \"poster_path\", \"homepage\"]\n",
    "movies.drop(columns=columns_to_drop, inplace=True)"
   ]
  },
  {
   "cell_type": "code",
   "execution_count": 37,
   "metadata": {},
   "outputs": [
    {
     "name": "stdout",
     "output_type": "stream",
     "text": [
      "0    [{'id': 16, 'name': 'Animation'}, {'id': 35, '...\n",
      "1    [{'id': 12, 'name': 'Adventure'}, {'id': 14, '...\n",
      "2    [{'id': 10749, 'name': 'Romance'}, {'id': 35, ...\n",
      "3    [{'id': 35, 'name': 'Comedy'}, {'id': 18, 'nam...\n",
      "4                       [{'id': 35, 'name': 'Comedy'}]\n",
      "Name: genres, dtype: object\n"
     ]
    }
   ],
   "source": [
    "print(movies['genres'].head())"
   ]
  },
  {
   "attachments": {},
   "cell_type": "markdown",
   "metadata": {},
   "source": [
    "Crear columna \"director\" a partir de credits.csv en movies_dataset.csv"
   ]
  },
  {
   "cell_type": "code",
   "execution_count": 49,
   "metadata": {},
   "outputs": [
    {
     "name": "stdout",
     "output_type": "stream",
     "text": [
      "0           [John Lasseter]\n",
      "1            [Joe Johnston]\n",
      "2           [Howard Deutch]\n",
      "3         [Forest Whitaker]\n",
      "4           [Charles Shyer]\n",
      "                ...        \n",
      "45446          [John Irvin]\n",
      "45447            [Lav Diaz]\n",
      "45448      [Mark L. Lester]\n",
      "45449    [Yakov Protazanov]\n",
      "45450       [Daisy Asquith]\n",
      "Name: director, Length: 45451, dtype: object\n"
     ]
    }
   ],
   "source": [
    "import pandas as pd\n",
    "import re\n",
    "\n",
    "patron = r\"'Director', 'name': '(,*?)', \"\n",
    "\n",
    "def extraer_nombres_director(valor):\n",
    "    if isinstance(valor, list):\n",
    "        nombres_director = []\n",
    "        for diccionario in valor:\n",
    "            if diccionario.get(\"job\") == \"Director\":\n",
    "                nombres_director.append(diccionario.get(\"name\"))\n",
    "        return nombres_director\n",
    "    else:\n",
    "        resultado = re.findall(patron, valor)\n",
    "        if resultado:\n",
    "            return resultado\n",
    "        else:\n",
    "            return \"\"\n",
    "\n",
    "# Convertir la columna \"id\" al mismo tipo de dato en ambos datasets\n",
    "movies[\"id\"] = movies[\"id\"].astype(int)\n",
    "credits[\"id\"] = credits[\"id\"].astype(int)\n",
    "\n",
    "# Fusionar los datasets utilizando el sufijo \"_credits\" para evitar colisión de nombres\n",
    "df_merged = pd.merge(movies, credits, on=\"id\", suffixes=(\"\", \"_credits\"))\n",
    "\n",
    "# Aplicar la función para extraer el nombre del director\n",
    "df_merged[\"director\"] = df_merged[\"crew\"].apply(extraer_nombres_director)\n",
    "\n",
    "# Imprimir la columna \"director\"\n",
    "print(df_merged[\"director\"])"
   ]
  },
  {
   "cell_type": "code",
   "execution_count": 50,
   "metadata": {},
   "outputs": [],
   "source": [
    "# Eliminar columnas innecesarias\n",
    "df_merged = df_merged.drop('cast', axis=1)\n",
    "df_merged = df_merged.drop('crew', axis=1)"
   ]
  },
  {
   "cell_type": "code",
   "execution_count": 51,
   "metadata": {},
   "outputs": [
    {
     "name": "stdout",
     "output_type": "stream",
     "text": [
      "Index(['belongs_to_collection', 'budget', 'genres', 'id', 'original_language',\n",
      "       'overview', 'popularity', 'production_companies',\n",
      "       'production_countries', 'release_date', 'revenue', 'runtime',\n",
      "       'spoken_languages', 'status', 'tagline', 'title', 'vote_average',\n",
      "       'vote_count', 'release_year', 'return', 'director'],\n",
      "      dtype='object')\n"
     ]
    }
   ],
   "source": [
    "print(df_merged.columns)"
   ]
  },
  {
   "attachments": {},
   "cell_type": "markdown",
   "metadata": {},
   "source": [
    "Guardar todas las transformaciones en un nuevo dataset, para ser consumido más eficientemente por la API"
   ]
  },
  {
   "cell_type": "code",
   "execution_count": 52,
   "metadata": {},
   "outputs": [],
   "source": [
    "df_merged.to_csv('movies_dataset_clean.csv', index=False)"
   ]
  }
 ],
 "metadata": {
  "kernelspec": {
   "display_name": "Python 3",
   "language": "python",
   "name": "python3"
  },
  "language_info": {
   "codemirror_mode": {
    "name": "ipython",
    "version": 3
   },
   "file_extension": ".py",
   "mimetype": "text/x-python",
   "name": "python",
   "nbconvert_exporter": "python",
   "pygments_lexer": "ipython3",
   "version": "3.11.3"
  },
  "orig_nbformat": 4
 },
 "nbformat": 4,
 "nbformat_minor": 2
}
